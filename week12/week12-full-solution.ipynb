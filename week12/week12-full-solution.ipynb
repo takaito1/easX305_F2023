{
 "cells": [
  {
   "cell_type": "markdown",
   "id": "3f04ddfb-120b-4af2-838d-2b8d580a52f8",
   "metadata": {},
   "source": [
    "# Carbonate chemistry calculation, approximate and exact \n",
    "    - First we need to install PyCO2SYS"
   ]
  },
  {
   "cell_type": "code",
   "execution_count": 1,
   "id": "9e3fc486-c4db-4110-b506-6a1105cbdd2d",
   "metadata": {},
   "outputs": [
    {
     "name": "stdout",
     "output_type": "stream",
     "text": [
      "Requirement already satisfied: PyCO2SYS in /Users/takamitsu3/opt/anaconda3/envs/PCO_F2023/lib/python3.11/site-packages (1.8.2)\n",
      "Requirement already satisfied: numpy>=1.17 in /Users/takamitsu3/opt/anaconda3/envs/PCO_F2023/lib/python3.11/site-packages (from PyCO2SYS) (1.26.0)\n",
      "Requirement already satisfied: pandas>=1 in /Users/takamitsu3/opt/anaconda3/envs/PCO_F2023/lib/python3.11/site-packages (from PyCO2SYS) (2.1.0)\n",
      "Requirement already satisfied: xarray>=0.15 in /Users/takamitsu3/opt/anaconda3/envs/PCO_F2023/lib/python3.11/site-packages (from PyCO2SYS) (2023.10.1)\n",
      "Requirement already satisfied: openpyxl>=3 in /Users/takamitsu3/opt/anaconda3/envs/PCO_F2023/lib/python3.11/site-packages (from PyCO2SYS) (3.1.2)\n",
      "Requirement already satisfied: autograd>=1.4 in /Users/takamitsu3/opt/anaconda3/envs/PCO_F2023/lib/python3.11/site-packages (from PyCO2SYS) (1.6.2)\n",
      "Requirement already satisfied: future>=0.15.2 in /Users/takamitsu3/opt/anaconda3/envs/PCO_F2023/lib/python3.11/site-packages (from autograd>=1.4->PyCO2SYS) (0.18.3)\n",
      "Requirement already satisfied: et-xmlfile in /Users/takamitsu3/opt/anaconda3/envs/PCO_F2023/lib/python3.11/site-packages (from openpyxl>=3->PyCO2SYS) (1.1.0)\n",
      "Requirement already satisfied: python-dateutil>=2.8.2 in /Users/takamitsu3/opt/anaconda3/envs/PCO_F2023/lib/python3.11/site-packages (from pandas>=1->PyCO2SYS) (2.8.2)\n",
      "Requirement already satisfied: pytz>=2020.1 in /Users/takamitsu3/opt/anaconda3/envs/PCO_F2023/lib/python3.11/site-packages (from pandas>=1->PyCO2SYS) (2023.3.post1)\n",
      "Requirement already satisfied: tzdata>=2022.1 in /Users/takamitsu3/opt/anaconda3/envs/PCO_F2023/lib/python3.11/site-packages (from pandas>=1->PyCO2SYS) (2023.3)\n",
      "Requirement already satisfied: packaging>=21.3 in /Users/takamitsu3/opt/anaconda3/envs/PCO_F2023/lib/python3.11/site-packages (from xarray>=0.15->PyCO2SYS) (23.1)\n",
      "Requirement already satisfied: six>=1.5 in /Users/takamitsu3/opt/anaconda3/envs/PCO_F2023/lib/python3.11/site-packages (from python-dateutil>=2.8.2->pandas>=1->PyCO2SYS) (1.16.0)\n"
     ]
    }
   ],
   "source": [
    "! pip install PyCO2SYS"
   ]
  },
  {
   "cell_type": "code",
   "execution_count": 3,
   "id": "3d849c8c-a689-413f-84ef-e2e0cf6b65e3",
   "metadata": {},
   "outputs": [],
   "source": [
    "import numpy as np\n",
    "import PyCO2SYS as pyco2"
   ]
  },
  {
   "cell_type": "markdown",
   "id": "9acb17a3-4514-4b61-9762-eee5e37a1dd1",
   "metadata": {},
   "source": [
    "## Approximate solution for calculating $[CO_3^{2-}]$ and $[HCO_3^{-}]$\n",
    "$[CO_3^{2-}] \\sim Alk - DIC$\n",
    "\n",
    "$[HCO_3^{-}] \\sim 2 DIC - Alk$"
   ]
  },
  {
   "cell_type": "code",
   "execution_count": 4,
   "id": "5d6d64b9-e40a-4030-b1bd-895abd110e54",
   "metadata": {},
   "outputs": [
    {
     "name": "stdout",
     "output_type": "stream",
     "text": [
      "Approximately, CO3 concentration is 200.0 micro-mol/kg\n"
     ]
    }
   ],
   "source": [
    "# Consider a surface mixed layer of DIC=2.1 molCm-3 and Alk=2.3 molm-3\n",
    "DIC = 2.1e3\n",
    "Alk = 2.3e3\n",
    "CO3 = Alk - DIC\n",
    "print(f'Approximately, CO3 concentration is {CO3:.4} micro-mol/kg')"
   ]
  },
  {
   "cell_type": "code",
   "execution_count": 5,
   "id": "7c8434bd-cf57-4e4d-af71-5cdd9000569d",
   "metadata": {},
   "outputs": [
    {
     "name": "stdout",
     "output_type": "stream",
     "text": [
      "Approximately, HCO3 concentration is 1.9e+03 micro-mol/kg\n"
     ]
    }
   ],
   "source": [
    "HCO3 = 2*DIC - Alk\n",
    "print(f'Approximately, HCO3 concentration is {HCO3:.4} micro-mol/kg')"
   ]
  },
  {
   "cell_type": "markdown",
   "id": "578492ef-770a-45ed-b366-d80f83b12968",
   "metadata": {},
   "source": [
    "## Approximate determination of acidity ($[H^+]$) and $pH$\n",
    "\n",
    "$K_2 = \\frac{[H^+][CO_3^{2-}]}{[HCO_3^{-}]}$\n",
    "\n",
    "This equation can be rearranged. \n",
    "\n",
    "$[H^+] = \\frac{K_2\\,[HCO_3^{-}]}{[CO_3^{2-}]}$\n",
    "\n",
    "$pH = -log_{10} [H^+]$"
   ]
  },
  {
   "cell_type": "code",
   "execution_count": 6,
   "id": "63aa20a4-ff96-42c0-b4b5-39879bc78bd8",
   "metadata": {},
   "outputs": [
    {
     "name": "stdout",
     "output_type": "stream",
     "text": [
      "Approximately, H+ ion concentration is 9.5e-09 mol/L\n",
      "Approximately, pH is 8.022\n"
     ]
    }
   ],
   "source": [
    "K2 = 1.e-9\n",
    "H = K2*HCO3/CO3\n",
    "pH = -np.log10(H)\n",
    "#\n",
    "print(f'Approximately, H+ ion concentration is {H:.4} mol/L')\n",
    "print(f'Approximately, pH is {pH:.4}')"
   ]
  },
  {
   "cell_type": "markdown",
   "id": "f6bf5a65-dfe9-4a7d-919f-0128fca3f975",
   "metadata": {},
   "source": [
    "## Repeat the same calculation using PyCO2SYS\n",
    "    - See the documentation at (https://pyco2sys.readthedocs.io/en/latest/)\n",
    "    - par type is 1 for Alk, 2 for DIC, 3 for pH, 4 for pCO2, 5 for fCO2, ...\n",
    "    - Note that units for concentrations are in micro-mol/kg"
   ]
  },
  {
   "cell_type": "code",
   "execution_count": 7,
   "id": "55503838-26a5-4250-b1bb-73975586fe67",
   "metadata": {},
   "outputs": [],
   "source": [
    "results = pyco2.sys(\n",
    "    par1=Alk, par2=DIC, par1_type=1, par2_type=2, temperature=25, salinity=35 )"
   ]
  },
  {
   "cell_type": "code",
   "execution_count": 8,
   "id": "263e3590-0f40-4071-90eb-a5ab5761038c",
   "metadata": {},
   "outputs": [
    {
     "name": "stdout",
     "output_type": "stream",
     "text": [
      "Exact solution for the CO3 concentration is 150.2 micro-mol/kg\n"
     ]
    }
   ],
   "source": [
    "CO3_exact = results['CO3']\n",
    "print(f'Exact solution for the CO3 concentration is {CO3_exact:.4} micro-mol/kg')"
   ]
  },
  {
   "cell_type": "code",
   "execution_count": 9,
   "id": "b050e151-cc58-4027-adb3-008292aea73d",
   "metadata": {},
   "outputs": [
    {
     "name": "stdout",
     "output_type": "stream",
     "text": [
      "Exact solution for the HCO3 concentration is 1.931e+03 micro-mol/kg\n"
     ]
    }
   ],
   "source": [
    "HCO3_exact = results['HCO3']\n",
    "print(f'Exact solution for the HCO3 concentration is {HCO3_exact:.4} micro-mol/kg')"
   ]
  },
  {
   "cell_type": "code",
   "execution_count": 10,
   "id": "55a0493a-bf54-4c55-a901-05675481c950",
   "metadata": {},
   "outputs": [
    {
     "name": "stdout",
     "output_type": "stream",
     "text": [
      "Exact solution for the pH is 7.86\n"
     ]
    }
   ],
   "source": [
    "pH_exact = results['pH']\n",
    "print(f'Exact solution for the pH is {pH_exact:.4}')"
   ]
  },
  {
   "cell_type": "markdown",
   "id": "9efb1423-6ff0-4d10-ab55-775116b0c0f2",
   "metadata": {},
   "source": [
    "## Effect of biological carbon uptake"
   ]
  },
  {
   "cell_type": "code",
   "execution_count": 11,
   "id": "e2af6e86-1076-4f8f-b562-59c7b53a30e4",
   "metadata": {},
   "outputs": [
    {
     "name": "stdout",
     "output_type": "stream",
     "text": [
      "carbon uptake is 66.2 umol/kg\n"
     ]
    }
   ],
   "source": [
    "# nitrate uptake of 10 umol/kg\n",
    "dN = 10.0\n",
    "# carbon uptake\n",
    "dC = dN/16*106\n",
    "print(f'carbon uptake is {dC:.3} umol/kg')"
   ]
  },
  {
   "cell_type": "code",
   "execution_count": 15,
   "id": "50ae7244-9b5d-4012-aa83-b6b84e1f7d62",
   "metadata": {},
   "outputs": [
    {
     "name": "stdout",
     "output_type": "stream",
     "text": [
      "After the carbon uptake, DIC is 2.034e+03 umol/kg\n",
      "and Alk is 2.31e+03 umol/kg\n"
     ]
    }
   ],
   "source": [
    "# update DIC and alkalinity\n",
    "DICnew = DIC - dC\n",
    "Alknew = Alk + dN\n",
    "print(f'After the carbon uptake, DIC is {DICnew:.4} umol/kg')\n",
    "print(f'and Alk is {Alknew:.4} umol/kg')"
   ]
  },
  {
   "cell_type": "code",
   "execution_count": 16,
   "id": "75426c24-6bfe-4c1e-8614-882f6671f8a1",
   "metadata": {},
   "outputs": [
    {
     "name": "stdout",
     "output_type": "stream",
     "text": [
      "Approximately, CO3 concentration is 276.2 micro-mol/kg\n"
     ]
    }
   ],
   "source": [
    "CO3 = Alknew - DICnew\n",
    "print(f'Approximately, CO3 concentration is {CO3:.4} micro-mol/kg')"
   ]
  },
  {
   "cell_type": "code",
   "execution_count": 18,
   "id": "350d541b-9e50-44d2-9ece-9c7f9b583985",
   "metadata": {},
   "outputs": [
    {
     "name": "stdout",
     "output_type": "stream",
     "text": [
      "Approximately, HCO3 concentration is 1.758e+03 micro-mol/kg\n"
     ]
    }
   ],
   "source": [
    "HCO3 = 2*DICnew - Alknew\n",
    "print(f'Approximately, HCO3 concentration is {HCO3:.4} micro-mol/kg')"
   ]
  },
  {
   "cell_type": "code",
   "execution_count": 19,
   "id": "bbc387ce-94f5-4ec1-8c39-2552bbb3866c",
   "metadata": {},
   "outputs": [
    {
     "name": "stdout",
     "output_type": "stream",
     "text": [
      "Approximately, H+ ion concentration is 6.362e-09 mol/L\n",
      "Approximately, pH is 8.196\n"
     ]
    }
   ],
   "source": [
    "H = K2*HCO3/CO3\n",
    "pH = -np.log10(H)\n",
    "#\n",
    "print(f'Approximately, H+ ion concentration is {H:.4} mol/L')\n",
    "print(f'Approximately, pH is {pH:.4}')"
   ]
  },
  {
   "cell_type": "markdown",
   "id": "7a29fb1a-47de-448c-a91d-84cdb6896770",
   "metadata": {},
   "source": [
    "### Repeat carbonate chemistry calculation with CO2SYS"
   ]
  },
  {
   "cell_type": "code",
   "execution_count": 21,
   "id": "3954c240-521e-4710-858f-4961c793672c",
   "metadata": {},
   "outputs": [],
   "source": [
    "results = pyco2.sys(\n",
    "    par1=Alknew, par2=DICnew, par1_type=1, par2_type=2, temperature=25, salinity=35 )"
   ]
  },
  {
   "cell_type": "code",
   "execution_count": 22,
   "id": "b41579ed-5366-4a12-83d0-54fc15e31d39",
   "metadata": {},
   "outputs": [
    {
     "name": "stdout",
     "output_type": "stream",
     "text": [
      "Exact solution for the CO3 concentration is 198.2 micro-mol/kg\n"
     ]
    }
   ],
   "source": [
    "CO3_exact = results['CO3']\n",
    "print(f'Exact solution for the CO3 concentration is {CO3_exact:.4} micro-mol/kg')"
   ]
  },
  {
   "cell_type": "code",
   "execution_count": 23,
   "id": "70bd06b5-33a3-4a96-81ca-23842808bcca",
   "metadata": {},
   "outputs": [
    {
     "name": "stdout",
     "output_type": "stream",
     "text": [
      "Exact solution for the HCO3 concentration is 1.823e+03 micro-mol/kg\n"
     ]
    }
   ],
   "source": [
    "HCO3_exact = results['HCO3']\n",
    "print(f'Exact solution for the HCO3 concentration is {HCO3_exact:.4} micro-mol/kg')"
   ]
  },
  {
   "cell_type": "code",
   "execution_count": 24,
   "id": "363f5c25-dad8-4606-9824-51a1b24108e2",
   "metadata": {},
   "outputs": [
    {
     "name": "stdout",
     "output_type": "stream",
     "text": [
      "Exact solution for the pH is 8.005\n"
     ]
    }
   ],
   "source": [
    "pH_exact = results['pH']\n",
    "print(f'Exact solution for the pH is {pH_exact:.4}')"
   ]
  },
  {
   "cell_type": "code",
   "execution_count": null,
   "id": "c634ce25-11fd-4b78-8f65-60f1a8f1b6f1",
   "metadata": {},
   "outputs": [],
   "source": []
  }
 ],
 "metadata": {
  "kernelspec": {
   "display_name": "Python [conda env:PCO_F2023]",
   "language": "python",
   "name": "conda-env-PCO_F2023-py"
  },
  "language_info": {
   "codemirror_mode": {
    "name": "ipython",
    "version": 3
   },
   "file_extension": ".py",
   "mimetype": "text/x-python",
   "name": "python",
   "nbconvert_exporter": "python",
   "pygments_lexer": "ipython3",
   "version": "3.11.5"
  }
 },
 "nbformat": 4,
 "nbformat_minor": 5
}
