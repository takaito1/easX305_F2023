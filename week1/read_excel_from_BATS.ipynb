{
 "cells": [
  {
   "cell_type": "markdown",
   "id": "92b70e9e",
   "metadata": {},
   "source": [
    "# EAS4305/6305 read excel from BATS\n",
    "The goal of this homework is to experience getting oceanographic dataset from a ocean time series station. This script helps with the first 2 steps of the HW1. "
   ]
  },
  {
   "cell_type": "code",
   "execution_count": 1,
   "id": "8339fa0b",
   "metadata": {},
   "outputs": [],
   "source": [
    "# import libraries\n",
    "import numpy as np\n",
    "import matplotlib.pyplot as plt\n",
    "import gsw\n",
    "import pandas as pd"
   ]
  },
  {
   "cell_type": "code",
   "execution_count": 2,
   "id": "e261503b",
   "metadata": {},
   "outputs": [],
   "source": [
    "# Step 1 download data from BATS and create data vectors\n",
    "df=pd.read_excel('http://batsftp.bios.edu/BATS/ctd/Excel/b10331_ctd.xls')\n",
    "data=df.to_numpy()\n",
    "castid=data[:,0]\n",
    "lat=data[:,3]\n",
    "lon=-data[:,4] # longitude is in degree W so it should be negative\n",
    "dep=data[:,5]\n",
    "p=data[:,6]\n",
    "t=data[:,7]\n",
    "sp=data[:,9]"
   ]
  },
  {
   "cell_type": "code",
   "execution_count": 3,
   "id": "122507c1",
   "metadata": {},
   "outputs": [],
   "source": [
    "# Step 2 select cast2\n",
    "ca=(castid == 10331002)\n",
    "p2=p[ca] # p2 contains pressure from cast 2 only\n",
    "t2=t[ca] # t2 contains temperature from cast 2"
   ]
  }
 ],
 "metadata": {
  "kernelspec": {
   "display_name": "Python 3",
   "language": "python",
   "name": "python3"
  },
  "language_info": {
   "codemirror_mode": {
    "name": "ipython",
    "version": 3
   },
   "file_extension": ".py",
   "mimetype": "text/x-python",
   "name": "python",
   "nbconvert_exporter": "python",
   "pygments_lexer": "ipython3",
   "version": "3.8.8"
  }
 },
 "nbformat": 4,
 "nbformat_minor": 5
}
